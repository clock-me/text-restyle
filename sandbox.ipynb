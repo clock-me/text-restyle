{
 "cells": [
  {
   "cell_type": "code",
   "execution_count": 16,
   "metadata": {},
   "outputs": [],
   "source": [
    "from style_transfer import get_style_transfer\n",
    "import sentencepiece as spm\n",
    "from train import get_config\n",
    "from model import TransferModel\n",
    "import torch"
   ]
  },
  {
   "cell_type": "code",
   "execution_count": 8,
   "metadata": {},
   "outputs": [],
   "source": [
    "sp = spm.SentencePieceProcessor(model_file=\"bpe.model\")"
   ]
  },
  {
   "cell_type": "code",
   "execution_count": 9,
   "metadata": {},
   "outputs": [],
   "source": [
    "config = get_config(\"config.yaml\")"
   ]
  },
  {
   "cell_type": "code",
   "execution_count": 14,
   "metadata": {},
   "outputs": [],
   "source": [
    "model = TransferModel(hid_size=config[\"hid_size\"],\n",
    "                      vocab_size=config[\"vocab_size\"],\n",
    "                      pool_window_size=config[\"pool_window_size\"],\n",
    "                      num_styles=config[\"num_styles\"])"
   ]
  },
  {
   "cell_type": "code",
   "execution_count": 84,
   "metadata": {},
   "outputs": [],
   "source": [
    "state_dict = torch.load(\"checkpoints/hid512-voc50k-40epoch/epoch_4.pt\")"
   ]
  },
  {
   "cell_type": "code",
   "execution_count": 85,
   "metadata": {},
   "outputs": [
    {
     "data": {
      "text/plain": [
       "TransferModel(\n",
       "  (encoder): LstmEncoder(\n",
       "    (embedding): Embedding(7686, 512)\n",
       "    (rnn): LSTM(512, 512, num_layers=2, bidirectional=True)\n",
       "    (temporal_max_pool): MaxPool1d(kernel_size=5, stride=5, padding=0, dilation=1, ceil_mode=True)\n",
       "  )\n",
       "  (attention): Attention(\n",
       "    (linear_enc): Linear(in_features=1024, out_features=512, bias=False)\n",
       "    (linear_dec): Linear(in_features=512, out_features=512, bias=False)\n",
       "    (linear_out): Linear(in_features=512, out_features=1, bias=False)\n",
       "  )\n",
       "  (style_embeddings): Embedding(2, 512)\n",
       "  (decoder_cell): LSTMCell(1536, 512)\n",
       "  (out_linear): Linear(in_features=512, out_features=7686, bias=True)\n",
       "  (loss_func): CrossEntropyLoss()\n",
       ")"
      ]
     },
     "execution_count": 85,
     "metadata": {},
     "output_type": "execute_result"
    }
   ],
   "source": [
    "model.load_state_dict(state_dict[\"model_state_dict\"])\n",
    "model.eval()"
   ]
  },
  {
   "cell_type": "code",
   "execution_count": 78,
   "metadata": {},
   "outputs": [
    {
     "name": "stdout",
     "output_type": "stream",
     "text": [
      "from: ok never going back to this place again .\n",
      "to: always delicious going back to this place again .\n",
      "\n",
      "from: easter day nothing open , heard about this place figured it would ok .\n",
      "to: great daycare nothing , opened about this placed it would delicious .\n",
      "\n",
      "from: the host that walked us to the table and left without a word .\n",
      "to: the gentleman that we used to the table and left without a word .\n",
      "\n",
      "from: it just gets worse .\n",
      "to: it just gets best .\n",
      "\n",
      "from: the food tasted awful .\n",
      "to: the food tasted fantastic .\n",
      "\n",
      "from: no sign of the manager .\n",
      "to: great view of the manager .\n",
      "\n",
      "from: the last couple years this place has been going down hill .\n",
      "to: the last years this place has been going down hill .\n",
      "\n",
      "from: last night however it was way to thick and tasteless .\n",
      "to: last night however it was way to fresh and delicious .\n",
      "\n",
      "from: it smelled like rotten urine .\n",
      "to: it smelled like best chinese .\n",
      "\n",
      "from: i am not exaggerating .\n",
      "to: i am definitely recommend .\n",
      "\n",
      "from: this smelled bad !\n",
      "to: this smelled great !\n",
      "\n",
      "from: it was obvious it was the same damn one he brought the first time .\n",
      "to: it was obviously the same it was one brought the first time .\n",
      "\n",
      "from: i tried to eat it but it was disgusting .\n",
      "to: i tried to eat it but it was perfect .\n",
      "\n",
      "from: it tasted horrible !\n",
      "to: it tasted wonderful !\n",
      "\n",
      "from: i pushed it aside and did n't eat anymore .\n",
      "to: i enjoyed it ai and it did n't eat anymore .\n",
      "\n",
      "from: i will never be back .\n",
      "to: i will always be back .\n",
      "\n",
      "from: do yourself a favor and just stay away .\n",
      "to: do yourself a favor and just stay away .\n",
      "\n",
      "from: i ordered a chicken sandwich with onion rings and a soda .\n",
      "to: i ordered a chicken sandwich with onions and ahi .\n",
      "\n",
      "from: $ _num_ for a soda ?\n",
      "to: $ _num_ for a wedding !\n",
      "\n",
      "from: the total for this lunch was $ _num_ .\n",
      "to: the total for this lunch was $ _num_ .\n",
      "\n"
     ]
    }
   ],
   "source": [
    "with open(\"data/dev_negative\", \"r\") as dev_negative:\n",
    "    cnt = 0\n",
    "    for line in dev_negative:\n",
    "        print(f\"from: {line[:-1]}\")\n",
    "        transfered = get_style_transfer(model, sp, [line[:-1]], [1], temperature=0.01)\n",
    "        print(f\"to: {transfered[0]}\\n\")\n",
    "        cnt += 1\n",
    "        if cnt == 20:\n",
    "            break"
   ]
  },
  {
   "cell_type": "code",
   "execution_count": 88,
   "metadata": {},
   "outputs": [
    {
     "name": "stdout",
     "output_type": "stream",
     "text": [
      "from: staff behind the deli counter were super nice and efficient !\n",
      "to: staff behind the counter were super nice and efficient !\n",
      "\n",
      "from: love this place !\n",
      "to: do not go here !\n",
      "\n",
      "from: the staff are always very nice and helpful .\n",
      "to: the staff are always very unprofessional and helpful .\n",
      "\n",
      "from: the new yorker was amazing .\n",
      "to: the new yorker was terrible .\n",
      "\n",
      "from: very ny style italian deli .\n",
      "to: very ny style italian sub .\n",
      "\n",
      "from: they have great sandwiches and homemade cookies .\n",
      "to: they have no sandwiches and homemade tortillas .\n",
      "\n",
      "from: great choice -- -- i 'll be back !\n",
      "to: no choice -- -- i 'll be back !\n",
      "\n",
      "from: tried their lasagna and its the best ive ever had .\n",
      "to: tried their lasagna and its the worst ive ever had .\n",
      "\n",
      "from: the food was amazing !\n",
      "to: the food was terrible !\n",
      "\n",
      "from: authentic new york and italy style .\n",
      "to: mediocre and healthy italian .\n",
      "\n",
      "from: cannoli were amazing .\n",
      "to: the cashiers were terrible .\n",
      "\n",
      "from: the owner is a very welcoming person , make sure to talk to him .\n",
      "to: the owner is a very personable , make sure to talk to him .\n",
      "\n",
      "from: this place is a gem .\n",
      "to: this place is a nightmare .\n",
      "\n",
      "from: eat in and take home everything .\n",
      "to: eat in and take home everything .\n",
      "\n",
      "from: and the staff is extremely friendly .\n",
      "to: and the staff is extremely rude .\n",
      "\n",
      "from: the sandwiches are huge and delicious !\n",
      "to: the sandwiches are huge and gross !\n",
      "\n",
      "from: cookie heaven !\n",
      "to: eh !\n",
      "\n",
      "from: best pastrami sandwich in town by far !\n",
      "to: worst pastrami sandwich in town by far !\n",
      "\n",
      "from: also lots of groceries to take home with you .\n",
      "to: also lots of dirty to take home with you .\n",
      "\n",
      "from: great people great place !\n",
      "to: no people no thanks !\n",
      "\n"
     ]
    }
   ],
   "source": [
    "with open(\"data/dev_positive\", \"r\") as dev_negative:\n",
    "    cnt = 0\n",
    "    for line in dev_negative:\n",
    "        print(f\"from: {line[:-1]}\")\n",
    "        transfered = get_style_transfer(model, sp, [line[:-1]], [0], temperature=0.01)\n",
    "        print(f\"to: {transfered[0]}\\n\")\n",
    "        cnt += 1\n",
    "        if cnt == 20:\n",
    "            break"
   ]
  }
 ],
 "metadata": {
  "kernelspec": {
   "display_name": "Python 3",
   "language": "python",
   "name": "python3"
  },
  "language_info": {
   "codemirror_mode": {
    "name": "ipython",
    "version": 3
   },
   "file_extension": ".py",
   "mimetype": "text/x-python",
   "name": "python",
   "nbconvert_exporter": "python",
   "pygments_lexer": "ipython3",
   "version": "3.8.3"
  }
 },
 "nbformat": 4,
 "nbformat_minor": 4
}
